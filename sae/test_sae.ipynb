{
 "cells": [
  {
   "cell_type": "code",
   "execution_count": 2,
   "id": "a4d9bcd1-acfd-4643-af96-854c54bd4326",
   "metadata": {},
   "outputs": [
    {
     "name": "stderr",
     "output_type": "stream",
     "text": [
      "/opt/miniconda3/lib/python3.12/site-packages/sentence_transformers/cross_encoder/CrossEncoder.py:13: TqdmExperimentalWarning: Using `tqdm.autonotebook.tqdm` in notebook mode. Use `tqdm.tqdm` instead to force console mode (e.g. in jupyter console)\n",
      "  from tqdm.autonotebook import tqdm, trange\n"
     ]
    },
    {
     "name": "stdout",
     "output_type": "stream",
     "text": [
      "Triton not installed, using eager implementation of SAE decoder.\n"
     ]
    }
   ],
   "source": [
    "from itertools import islice\n",
    "import pandas as pd\n",
    "from sentence_transformers import SentenceTransformer\n",
    "from typing import Dict\n",
    "\n",
    "from nomic.atlas import AtlasDataset\n",
    "from latentsae import Sae\n"
   ]
  },
  {
   "cell_type": "code",
   "execution_count": 3,
   "id": "ff1d7448-daa0-4c03-bbe6-594dda518572",
   "metadata": {},
   "outputs": [
    {
     "data": {
      "application/vnd.jupyter.widget-view+json": {
       "model_id": "4d82c3f537284ee3b6c21e4c0900ad9e",
       "version_major": 2,
       "version_minor": 0
      },
      "text/plain": [
       "Fetching 2 files:   0%|          | 0/2 [00:00<?, ?it/s]"
      ]
     },
     "metadata": {},
     "output_type": "display_data"
    },
    {
     "name": "stderr",
     "output_type": "stream",
     "text": [
      "Dropping extra args {'signed': False}\n"
     ]
    }
   ],
   "source": [
    "sae_model = Sae.load_from_hub(\"enjalot/sae-nomic-text-v1.5-FineWeb-edu-100BT\", \"64_32\")"
   ]
  },
  {
   "cell_type": "code",
   "execution_count": 4,
   "id": "b86fee8b-77c5-4090-af12-44fda4ccc958",
   "metadata": {},
   "outputs": [
    {
     "name": "stderr",
     "output_type": "stream",
     "text": [
      "<All keys matched successfully>\n"
     ]
    }
   ],
   "source": [
    "emb_model = SentenceTransformer(\"nomic-ai/nomic-embed-text-v1.5\", trust_remote_code=True)"
   ]
  },
  {
   "cell_type": "code",
   "execution_count": 5,
   "id": "0338c9d3-a05c-4de0-b64d-3b4f5d39ce66",
   "metadata": {},
   "outputs": [],
   "source": [
    "device = \"mps\"\n",
    "sae_model = sae_model.to(device)\n",
    "emb_model = emb_model.to(device)"
   ]
  },
  {
   "cell_type": "markdown",
   "id": "811b537c",
   "metadata": {},
   "source": [
    "# Test the SAE"
   ]
  },
  {
   "cell_type": "code",
   "execution_count": 6,
   "id": "82a2eeda",
   "metadata": {},
   "outputs": [],
   "source": [
    "loaded_features = pd.read_parquet(\"features.parquet\").to_dict(orient='records')"
   ]
  },
  {
   "cell_type": "code",
   "execution_count": 12,
   "id": "46e5e5fe",
   "metadata": {},
   "outputs": [],
   "source": [
    "def aggregate_encoder_output(encoder_output, k: int = 5) -> Dict[int, float]:\n",
    "    total_activations = {}\n",
    "    for idx, act in zip(encoder_output.top_indices.cpu().flatten(), encoder_output.top_acts.cpu().flatten()):\n",
    "        idx_int = idx.item()\n",
    "        if idx_int in total_activations:\n",
    "            total_activations[idx_int] += act.item()\n",
    "        else:\n",
    "            total_activations[idx_int] = act.item()\n",
    "    sorted_activations = dict(sorted(total_activations.items(), key=lambda item: item[1], reverse=True))\n",
    "    return sorted_activations"
   ]
  },
  {
   "cell_type": "code",
   "execution_count": 17,
   "id": "46f52ad5",
   "metadata": {},
   "outputs": [],
   "source": [
    "def summarize_encoder_output(sorted_activations, k=5):\n",
    "    return [loaded_features[idx]['label'] for idx in list(islice(sorted_activations, k))]"
   ]
  },
  {
   "cell_type": "code",
   "execution_count": 18,
   "id": "4081cd4c",
   "metadata": {},
   "outputs": [],
   "source": [
    "test_strings = ['baseball', 'football', 'basketball', 'hockey', 'soccer']"
   ]
  },
  {
   "cell_type": "code",
   "execution_count": 19,
   "id": "9502e109",
   "metadata": {},
   "outputs": [
    {
     "data": {
      "text/plain": [
       "['sports activism and social impact',\n",
       " 'Cultural narratives and storytelling techniques',\n",
       " 'interdisciplinary teamwork and project management strategies',\n",
       " 'quantum computing and nanomaterial advancements',\n",
       " 'climate classification and temperature analysis']"
      ]
     },
     "execution_count": 19,
     "metadata": {},
     "output_type": "execute_result"
    }
   ],
   "source": [
    "summarize_encoder_output(aggregate_encoder_output(sae_model.encode(emb_model.encode(test_strings, convert_to_tensor=True))))"
   ]
  },
  {
   "cell_type": "markdown",
   "id": "cb6cbaa0-e85f-4654-b013-fefc5b1403d2",
   "metadata": {},
   "source": [
    "# Notes\n",
    "\n",
    "gpt4o-mini overuses the words \"interdisciplinary\" and \"quantum\"\n",
    "\n",
    "Manual nomencodes\n",
    "\n",
    "5507: Apple, Inc."
   ]
  },
  {
   "cell_type": "markdown",
   "id": "e64a5c99",
   "metadata": {},
   "source": []
  },
  {
   "cell_type": "code",
   "execution_count": null,
   "id": "112119ae",
   "metadata": {},
   "outputs": [],
   "source": []
  }
 ],
 "metadata": {
  "kernelspec": {
   "display_name": "Python 3 (ipykernel)",
   "language": "python",
   "name": "python3"
  },
  "language_info": {
   "codemirror_mode": {
    "name": "ipython",
    "version": 3
   },
   "file_extension": ".py",
   "mimetype": "text/x-python",
   "name": "python",
   "nbconvert_exporter": "python",
   "pygments_lexer": "ipython3",
   "version": "3.12.4"
  }
 },
 "nbformat": 4,
 "nbformat_minor": 5
}
